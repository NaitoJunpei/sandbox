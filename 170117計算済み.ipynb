{
 "cells": [
  {
   "cell_type": "code",
   "execution_count": 1,
   "metadata": {},
   "outputs": [
    {
     "name": "stderr",
     "output_type": "stream",
     "text": [
      "/Library/Frameworks/Python.framework/Versions/3.6/lib/python3.6/site-packages/sklearn/cross_validation.py:44: DeprecationWarning: This module was deprecated in version 0.18 in favor of the model_selection module into which all the refactored classes and functions are moved. Also note that the interface of the new CV iterators are different from that of this module. This module will be removed in 0.20.\n",
      "  \"This module will be removed in 0.20.\", DeprecationWarning)\n"
     ]
    }
   ],
   "source": [
    "import pandas as pd\n",
    "import numpy as np\n",
    "import codecs\n",
    "import os as os\n",
    "import matplotlib.pyplot as plt\n",
    "import datetime\n",
    "from pandas import Series, DataFrame\n",
    "import pyper\n",
    "import time\n",
    "from sklearn import preprocessing\n",
    "from sklearn.linear_model import LogisticRegression\n",
    "from sklearn.cross_validation import train_test_split\n",
    "from sklearn.metrics import mean_squared_error\n",
    "from sklearn.metrics import roc_auc_score\n",
    "from math import sqrt\n",
    "\n",
    "import scipy.spatial.distance as distance\n",
    "from scipy.cluster.hierarchy import linkage, dendrogram\n",
    "\n",
    "from sklearn.linear_model import LogisticRegressionCV\n"
   ]
  },
  {
   "cell_type": "code",
   "execution_count": 2,
   "metadata": {},
   "outputs": [
    {
     "name": "stderr",
     "output_type": "stream",
     "text": [
      "/Library/Frameworks/Python.framework/Versions/3.6/lib/python3.6/site-packages/IPython/html.py:14: ShimWarning: The `IPython.html` package has been deprecated since IPython 4.0. You should import from `notebook` instead. `IPython.html.widgets` has moved to `ipywidgets`.\n",
      "  \"`IPython.html.widgets` has moved to `ipywidgets`.\", ShimWarning)\n"
     ]
    }
   ],
   "source": [
    "from __future__ import print_function\n",
    "from IPython.html.widgets import interact, interactive, fixed\n",
    "from IPython.html import widgets"
   ]
  },
  {
   "cell_type": "code",
   "execution_count": 3,
   "metadata": {},
   "outputs": [],
   "source": [
    "import ipywidgets"
   ]
  },
  {
   "cell_type": "code",
   "execution_count": 4,
   "metadata": {},
   "outputs": [],
   "source": [
    "TEST_SIZE = 0.2\n",
    "RANDOM_STATE = 0"
   ]
  },
  {
   "cell_type": "code",
   "execution_count": 5,
   "metadata": {
    "collapsed": true
   },
   "outputs": [],
   "source": [
    "with codecs.open(\"./170117.csv\", \"r\", \"utf-8\", \"ignore\") as file3:\n",
    "    checkdf4 = pd.read_csv(file3, sep=\",\").set_index(\"ID\")"
   ]
  },
  {
   "cell_type": "code",
   "execution_count": 6,
   "metadata": {},
   "outputs": [],
   "source": [
    "with codecs.open(\"./170117checkdf3.csv\", \"r\", \"utf-8\", \"ignore\") as file4 :\n",
    "    checkdf3 = pd.read_csv(file4, sep=\",\").set_index(\"Unnamed: 0\")"
   ]
  },
  {
   "cell_type": "code",
   "execution_count": 15,
   "metadata": {},
   "outputs": [
    {
     "name": "stdout",
     "output_type": "stream",
     "text": [
      "初回検査日齢\n",
      "契約の更新\n",
      "子どもNo\n",
      "得点平均\n",
      "検査回数\n",
      "検査時の日齢\n",
      "検査間隔\n",
      "知覚的発達\n",
      "知覚的発達の伸び\n",
      "社会的発達\n",
      "社会的発達の伸び\n",
      "言語的発達\n",
      "言語的発達の伸び\n",
      "身体的発達\n",
      "身体的発達の伸び\n",
      "b_DTW_O_MAX_101\n",
      "b_DTW_O_MAX_102\n",
      "b_DTW_O_MAX_103\n",
      "b_DTW_O_MAX_104\n",
      "b_DTW_O_MAX_105\n",
      "b_DTW_O_MAX_106\n"
     ]
    }
   ],
   "source": [
    "i = 0\n",
    "for str in  checkdf4.columns  :\n",
    "    print(str)\n",
    "    i+= 1\n",
    "    if i > 20 :\n",
    "        break\n",
    "        "
   ]
  },
  {
   "cell_type": "code",
   "execution_count": 16,
   "metadata": {},
   "outputs": [],
   "source": [
    "##卒論に載せたやつ\n",
    "\n",
    "fig = plt.figure(figsize=(9, 5))\n",
    "plt.xlim(0, 500)\n",
    "plt.ylim(0, 48)\n",
    "\n",
    "for ID in checkdf4.loc[checkdf4.b_EUCL_A_N_MIN_200_5 == True].index :\n",
    "    data = checkdf3.loc[checkdf3.ID == ID, [\"身体的発達\", \"検査時の日齢\"]]\n",
    "    plt.plot(data.検査時の日齢, data.身体的発達)"
   ]
  },
  {
   "cell_type": "code",
   "execution_count": 17,
   "metadata": {},
   "outputs": [],
   "source": [
    "data = checkdf3.loc[checkdf3.ID == 1098802, [\"身体的発達\", \"検査時の日齢\"]]"
   ]
  },
  {
   "cell_type": "code",
   "execution_count": 18,
   "metadata": {},
   "outputs": [
    {
     "data": {
      "text/plain": [
       "Unnamed: 0\n",
       "21      11.0\n",
       "571     15.0\n",
       "1016    18.0\n",
       "1499    18.0\n",
       "1997    21.0\n",
       "2495    22.0\n",
       "2741    26.0\n",
       "Name: 身体的発達, dtype: float64"
      ]
     },
     "execution_count": 18,
     "metadata": {},
     "output_type": "execute_result"
    }
   ],
   "source": [
    "data[\"身体的発達\"]"
   ]
  },
  {
   "cell_type": "code",
   "execution_count": null,
   "metadata": {},
   "outputs": [],
   "source": [
    "fig = plt.figure(figsize=(9, 5))\n",
    "plt.xlim(0, 500)\n",
    "plt.ylim(0, 48)\n",
    "\n",
    "for ID in checkdf4.loc[checkdf4.k_EUCL_B_N_AVE_200_14 == True].index :\n",
    "    data = checkdf3.loc[checkdf3.ID == ID, [\"知覚的発達\", \"検査時の日齢\"]]\n",
    "    plt.plot(data.検査時の日齢, data.知覚的発達)\n"
   ]
  },
  {
   "cell_type": "code",
   "execution_count": null,
   "metadata": {},
   "outputs": [],
   "source": [
    "%matplotlib inline\n",
    "\n",
    "\n",
    "\n",
    "fig = plt.figure(figsize=(12, 9))\n",
    "plt.xlim(0, 500)\n",
    "plt.ylim(0, 25)\n",
    "\n",
    "for ID in checkdf4.loc[checkdf4.k_EUCL_A_N_MIN_100_4 == True].index :\n",
    "    data = checkdf3.loc[checkdf3.ID == ID, [\"知覚的発達\", \"検査時の日齢\"]]\n",
    "    plt.plot(data.検査時の日齢, data.知覚的発達)"
   ]
  },
  {
   "cell_type": "code",
   "execution_count": null,
   "metadata": {},
   "outputs": [],
   "source": [
    "checkdf4.loc[checkdf4.b_EUCL_B_N_AVE_200_10 == True]"
   ]
  },
  {
   "cell_type": "code",
   "execution_count": null,
   "metadata": {},
   "outputs": [],
   "source": [
    "checkdf4.loc[checkdf4.k_EUCL_B_N_AVE_200_14 == True]"
   ]
  },
  {
   "cell_type": "code",
   "execution_count": null,
   "metadata": {},
   "outputs": [],
   "source": [
    "#s_EUCL_B_N_AVE_200_\n",
    "def scores(length, interpolate, normalize, clustMethod, clustSize) :\n",
    "    \n",
    "    #length : DTW, EUCL\n",
    "    #interpolate : O, A, B\n",
    "    #normalize : \"\", \"N_\"\n",
    "    #clustMethod : MIN, MAX, AVE\n",
    "    #clustSize : 100, 200\n",
    "\n",
    "\n",
    "    labels = [\"子どもNo\", \"初回検査日齢\", \"検査時の日齢\", \"検査間隔\", \"検査回数\",\n",
    "              \"得点平均\", \"身体的発達\",  \"知覚的発達\", \"言語的発達\", \"社会的発達\"]\n",
    "\n",
    "    labels.extend([str(x) + \"_\" + str(length) + \"_\" + str(interpolate) + \"_\" + str(normalize) + str(clustMethod) + \"_\" + str(clustSize) + \"_\" + str(y)\n",
    "                   for x in [\"b\", \"k\", \"l\", \"s\"] for y in range(1, clustSize + 1)])\n",
    "\n",
    "    X = checkdf4.loc[:, labels]\n",
    "    y = checkdf4.loc[:, '契約の更新'].replace(False, -1.0)\n",
    "\n",
    "    X_scaled = preprocessing.scale(X)\n",
    "    #X_scaled = X\n",
    "    X_train, X_val, y_train, y_val = train_test_split(X_scaled,\n",
    "                                                      y,\n",
    "                                                      test_size=TEST_SIZE,\n",
    "                                                      random_state=RANDOM_STATE)\n",
    "\n",
    "    log = LogisticRegressionCV()\n",
    "    log.fit(X_train, y_train)\n",
    "    y_val_pred = log.predict(X_val)\n",
    "\n",
    "#    print(mean_squared_error(y_val, y_val_pred) / 4)\n",
    "#    print((y_val - y_val_pred).value_counts())\n",
    "    print(roc_auc_score(y_val, y_val_pred), length, interpolate, normalize, clustMethod, clustSize)\n",
    "#    print(roc_auc_score(y_val, y_val_pred))\n",
    "#    print(log.coef_)"
   ]
  },
  {
   "cell_type": "code",
   "execution_count": null,
   "metadata": {},
   "outputs": [],
   "source": [
    "for length in [\"DTW\"] :\n",
    "    for interpolate in [\"O\", \"A\", \"B\"] :\n",
    "        for normalize in [\"\", \"N_\"] :\n",
    "            for method in [\"MIN\", \"MAX\", \"AVE\"] :\n",
    "                for clustSize in [100, 200] :\n",
    "                    scores(length, interpolate, normalize, method, clustSize)\n",
    "                    \n",
    "for length in [\"EUCL\"] :\n",
    "    for interpolate in [\"A\", \"B\"] :\n",
    "        for normalize in [\"\", \"N_\"] :\n",
    "            for method in [\"MIN\", \"MAX\", \"AVE\"] :\n",
    "                for clustSize in [100, 200] :\n",
    "                    scores(length, interpolate, normalize, method, clustSize)\n",
    "#scores(\"DTW\", \"O\", \"N_\", \"MAX\", 100) "
   ]
  },
  {
   "cell_type": "code",
   "execution_count": null,
   "metadata": {},
   "outputs": [],
   "source": [
    "for length in [\"DTW\"] :\n",
    "    for interpolate in [\"O\", \"A\", \"B\"] :\n",
    "        for normalize in [\"\", \"N_\"] :\n",
    "            for method in [\"MIN\", \"MAX\", \"AVE\"] :\n",
    "                for clustSize in [10, 20, 50, 100, 200] :\n",
    "                    scores(length, interpolate, normalize, method, clustSize)\n",
    "                    \n",
    "for length in [\"EUCL\"] :\n",
    "    for interpolate in [\"A\", \"B\"] :\n",
    "        for normalize in [\"\", \"N_\"] :\n",
    "            for method in [\"MIN\", \"MAX\", \"AVE\"] :\n",
    "                for clustSize in [10, 20, 50, 100, 200] :\n",
    "                    scores(length, interpolate, normalize, method, clustSize)\n",
    "\n"
   ]
  },
  {
   "cell_type": "code",
   "execution_count": null,
   "metadata": {},
   "outputs": [],
   "source": [
    "checkdf3.loc[checkdf3.ID == 2061303, [\"月齢\", \"身体的発達\"]]"
   ]
  },
  {
   "cell_type": "code",
   "execution_count": null,
   "metadata": {},
   "outputs": [],
   "source": [
    "fig = plt.figure(figsize=(12, 9))\n",
    "\n",
    "for label in [\"身体的発達\", \"知覚的発達\", \"言語的発達\", \"社会的発達\"]:\n",
    "    data = checkdf3.loc[checkdf3.ID == 2061303]\n",
    "    plt.plot(data.検査時の日齢, data[label])"
   ]
  },
  {
   "cell_type": "code",
   "execution_count": null,
   "metadata": {},
   "outputs": [],
   "source": [
    "checkdf3.loc[checkdf3.ID == 2061303, [\"身体的発達\", \"知覚的発達\", \"言語的発達\", \"社会的発達\"]]"
   ]
  },
  {
   "cell_type": "code",
   "execution_count": null,
   "metadata": {},
   "outputs": [],
   "source": []
  }
 ],
 "metadata": {
  "kernelspec": {
   "display_name": "Python 3",
   "language": "python",
   "name": "python3"
  },
  "language_info": {
   "codemirror_mode": {
    "name": "ipython",
    "version": 3
   },
   "file_extension": ".py",
   "mimetype": "text/x-python",
   "name": "python",
   "nbconvert_exporter": "python",
   "pygments_lexer": "ipython3",
   "version": "3.6.0"
  }
 },
 "nbformat": 4,
 "nbformat_minor": 1
}
